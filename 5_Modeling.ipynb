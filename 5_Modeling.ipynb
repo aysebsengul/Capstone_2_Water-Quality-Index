{
 "cells": [
  {
   "cell_type": "markdown",
   "id": "4086610b",
   "metadata": {},
   "source": [
    "### 1. Import relevant libraries"
   ]
  },
  {
   "cell_type": "code",
   "execution_count": 1,
   "id": "d8576c55",
   "metadata": {},
   "outputs": [],
   "source": [
    "import numpy as np \n",
    "import pandas as pd \n",
    "import matplotlib.pyplot as plt \n",
    "import seaborn as sns\n",
    "\n",
    "from sklearn.model_selection import cross_val_score, KFold\n",
    "from sklearn.linear_model import LinearRegression, Lasso, Ridge\n",
    "from sklearn.model_selection import GridSearchCV\n",
    "from sklearn.ensemble import RandomForestRegressor\n",
    "import xgboost as xgb\n",
    "from sklearn.metrics import r2_score, mean_squared_error, mean_absolute_error\n",
    "\n",
    "import warnings\n",
    "warnings.filterwarnings(action='ignore')"
   ]
  },
  {
   "cell_type": "markdown",
   "id": "6fd731e0",
   "metadata": {},
   "source": [
    "### 2. Load the data"
   ]
  },
  {
   "cell_type": "code",
   "execution_count": 2,
   "id": "ab31897f",
   "metadata": {},
   "outputs": [],
   "source": [
    "# Load the transformed features for training and testing data\n",
    "X_train_transformed = pd.read_csv('X_train_transformed.csv')\n",
    "X_test_transformed = pd.read_csv('X_test_transformed.csv')\n",
    "\n",
    "# Load the unchanged target variables for training and testing data\n",
    "y_train = pd.read_csv('y_train.csv')['WQI']  # Assuming 'WQI' is the target variable column\n",
    "y_test = pd.read_csv('y_test.csv')['WQI']    # Assuming 'WQI' is the target variable column"
   ]
  },
  {
   "cell_type": "code",
   "execution_count": 3,
   "id": "4f192b2e",
   "metadata": {
    "scrolled": false
   },
   "outputs": [
    {
     "name": "stdout",
     "output_type": "stream",
     "text": [
      "<class 'pandas.core.frame.DataFrame'>\n",
      "RangeIndex: 820 entries, 0 to 819\n",
      "Data columns (total 17 columns):\n",
      " #   Column                         Non-Null Count  Dtype  \n",
      "---  ------                         --------------  -----  \n",
      " 0   Station_no                     820 non-null    float64\n",
      " 1   Month                          820 non-null    float64\n",
      " 2   Cond (μS/cm)                   820 non-null    float64\n",
      " 3   DO (mg/L)                      820 non-null    float64\n",
      " 4   pH                             820 non-null    float64\n",
      " 5   NO2 (mg/L)                     820 non-null    float64\n",
      " 6   NO3 (mg/L)                     820 non-null    float64\n",
      " 7   TN (mg/L)                      820 non-null    float64\n",
      " 8   TP (mg/L)                      820 non-null    float64\n",
      " 9   TSS (mg/L)                     820 non-null    float64\n",
      " 10  BOD (mg/L)                     820 non-null    float64\n",
      " 11  Turbidity (NTU)                820 non-null    float64\n",
      " 12  WQC_Excellent (4)              820 non-null    float64\n",
      " 13  WQC_Good (3)                   820 non-null    float64\n",
      " 14  WQC_Poor (2)                   820 non-null    float64\n",
      " 15  WQC_Unfit for consumption (0)  820 non-null    float64\n",
      " 16  WQC_Very Poor (1)              820 non-null    float64\n",
      "dtypes: float64(17)\n",
      "memory usage: 109.0 KB\n"
     ]
    }
   ],
   "source": [
    "# Display the summary information of the loaded data\n",
    "X_train_transformed.info()"
   ]
  },
  {
   "cell_type": "markdown",
   "id": "b4b30c3c",
   "metadata": {},
   "source": [
    "The dataset consists of 10 columns, each representing a different feature associated with water quality assessment. These features encompass various measurements such as conductivity, dissolved oxygen (DO), pH level, and concentrations of substances like nitrites (NO2), nitrates (NO3), total nitrogen (TN), total phosphorus (TP), total suspended solids (TSS), biochemical oxygen demand (BOD), and turbidity. Notably, the dataset contains no missing values across all columns. Moreover, the data types for all columns are float64. "
   ]
  },
  {
   "cell_type": "code",
   "execution_count": 4,
   "id": "3d8c3b5c",
   "metadata": {
    "scrolled": true
   },
   "outputs": [
    {
     "name": "stdout",
     "output_type": "stream",
     "text": [
      "<class 'pandas.core.frame.DataFrame'>\n",
      "RangeIndex: 205 entries, 0 to 204\n",
      "Data columns (total 17 columns):\n",
      " #   Column                         Non-Null Count  Dtype  \n",
      "---  ------                         --------------  -----  \n",
      " 0   Station_no                     205 non-null    float64\n",
      " 1   Month                          205 non-null    float64\n",
      " 2   Cond (μS/cm)                   205 non-null    float64\n",
      " 3   DO (mg/L)                      205 non-null    float64\n",
      " 4   pH                             205 non-null    float64\n",
      " 5   NO2 (mg/L)                     205 non-null    float64\n",
      " 6   NO3 (mg/L)                     205 non-null    float64\n",
      " 7   TN (mg/L)                      205 non-null    float64\n",
      " 8   TP (mg/L)                      205 non-null    float64\n",
      " 9   TSS (mg/L)                     205 non-null    float64\n",
      " 10  BOD (mg/L)                     205 non-null    float64\n",
      " 11  Turbidity (NTU)                205 non-null    float64\n",
      " 12  WQC_Excellent (4)              205 non-null    float64\n",
      " 13  WQC_Good (3)                   205 non-null    float64\n",
      " 14  WQC_Poor (2)                   205 non-null    float64\n",
      " 15  WQC_Unfit for consumption (0)  205 non-null    float64\n",
      " 16  WQC_Very Poor (1)              205 non-null    float64\n",
      "dtypes: float64(17)\n",
      "memory usage: 27.4 KB\n"
     ]
    }
   ],
   "source": [
    "X_test_transformed.info()"
   ]
  },
  {
   "cell_type": "markdown",
   "id": "aaab945b",
   "metadata": {},
   "source": [
    "The testing dataset mirrors the structure of the training dataset, comprising 205 entries and 10 columns. Each row likely represents a distinct water measurement, with the columns representing features relevant to water quality assessment. These features include measurements such as conductivity, dissolved oxygen (DO), pH level, and concentrations of substances like nitrites (NO2), nitrates (NO3), total nitrogen (TN), total phosphorus (TP), total suspended solids (TSS), biochemical oxygen demand (BOD), and turbidity. Similar to the training dataset, the testing data exhibits no missing values across any columns.  Furthermore, the data types for all columns are float64."
   ]
  },
  {
   "cell_type": "markdown",
   "id": "9794a62c",
   "metadata": {},
   "source": [
    "### 3. Modeling"
   ]
  },
  {
   "cell_type": "markdown",
   "id": "5c1a909d",
   "metadata": {},
   "source": [
    "Based on the information provided by info(), it seems that both the training and testing datasets have been loaded successfully without any missing values. Each dataset contains 10 columns, all of which are numerical (float64), including the target variable 'WQI'. There are 820 samples in the training set and 205 samples in the testing set, with 10 features each. \n",
    "\n",
    "Since the target variable, WQI, is continuous, Linear Regression, Random Forest Regression, and XGBoost Regression model are used to explore different approaches and leverage the strengths of each method."
   ]
  },
  {
   "cell_type": "markdown",
   "id": "8c1fd5ad",
   "metadata": {},
   "source": [
    "#### 3a. Making a Linear Regression Model: first model"
   ]
  },
  {
   "cell_type": "code",
   "execution_count": 5,
   "id": "05589879",
   "metadata": {
    "scrolled": true
   },
   "outputs": [
    {
     "name": "stdout",
     "output_type": "stream",
     "text": [
      "Linear Regression:\n",
      "R-squared (R2) on Testing Set: 0.5723354928732027\n",
      "Mean Squared Error (MSE) on Testing Set: 95.6728966107658\n",
      "Mean Absolute Error (MAE) on Testing Set: 6.528685406492081\n"
     ]
    }
   ],
   "source": [
    "# Define the Linear Regression model\n",
    "linear_model = LinearRegression()\n",
    "\n",
    "# Fit the model to the training data\n",
    "linear_model.fit(X_train_transformed, y_train)\n",
    "\n",
    "# Predict using the model\n",
    "y_pred_linear = linear_model.predict(X_test_transformed)\n",
    "\n",
    "# Evaluate the model\n",
    "r2_linear = r2_score(y_test, y_pred_linear)\n",
    "mse_score_linear = mean_squared_error(y_test, y_pred_linear)\n",
    "mae_linear = mean_absolute_error(y_test, y_pred_linear)\n",
    "\n",
    "print(\"Linear Regression:\")\n",
    "print(\"R-squared (R2) on Testing Set:\", r2_linear)\n",
    "print(\"Mean Squared Error (MSE) on Testing Set:\", mse_score_linear)\n",
    "print(\"Mean Absolute Error (MAE) on Testing Set:\", mae_linear)\n"
   ]
  },
  {
   "cell_type": "code",
   "execution_count": 6,
   "id": "73f71f0b",
   "metadata": {
    "scrolled": true
   },
   "outputs": [
    {
     "name": "stdout",
     "output_type": "stream",
     "text": [
      "3-fold Cross-Validation Scores for Linear Regression:\n",
      "Mean cross-validation score on testing set: 0.8036149281953895\n",
      "Mean cross-validation score on training set: 0.7261970112259043\n",
      "Standard deviation in cross-validation scores on testing set: 0.020857955708799444\n",
      "\n",
      "5-fold Cross-Validation Scores for Linear Regression:\n",
      "Mean cross-validation score on testing set: 0.7878371567247182\n",
      "Mean cross-validation score on training set: 0.7214882545058139\n",
      "Standard deviation in cross-validation scores on testing set: 0.05015803228375413\n",
      "\n",
      "7-fold Cross-Validation Scores for Linear Regression:\n",
      "Mean cross-validation score on testing set: 0.786899897950616\n",
      "Mean cross-validation score on training set: 0.736839125187784\n",
      "Standard deviation in cross-validation scores on testing set: 0.05816616636428495\n",
      "\n",
      "10-fold Cross-Validation Scores for Linear Regression:\n",
      "Mean cross-validation score on testing set: 0.7792668323413623\n",
      "Mean cross-validation score on training set: 0.7518151297918668\n",
      "Standard deviation in cross-validation scores on testing set: 0.06309195001469313\n",
      "\n"
     ]
    }
   ],
   "source": [
    "# Define the range of number of splits\n",
    "num_splits_range = [3, 5, 7, 10]\n",
    "\n",
    "# Dictionary to store cross-validation scores for each number of splits\n",
    "cv_scores_linear_test = {}\n",
    "cv_scores_linear_train = {}\n",
    "\n",
    "for num_splits in num_splits_range:\n",
    "    # Define cross-validation strategy with current number of splits\n",
    "    kf = KFold(n_splits=num_splits, shuffle=True, random_state=42)\n",
    "\n",
    "    # Perform cross-validation for Linear Regression\n",
    "    cv_scores_linear_test[num_splits] = cross_val_score(linear_model, X_test_transformed, y_test, cv=kf, scoring='r2')\n",
    "    cv_scores_linear_train[num_splits] = cross_val_score(linear_model, X_train_transformed, y_train, cv=kf, scoring='r2')\n",
    "  \n",
    "    # Print the cross-validation scores for each number of splits\n",
    "    print(f\"{num_splits}-fold Cross-Validation Scores for Linear Regression:\")\n",
    "    print(\"Mean cross-validation score on testing set:\", np.mean(cv_scores_linear_test[num_splits]))\n",
    "    print(\"Mean cross-validation score on training set:\", np.mean(cv_scores_linear_train[num_splits]))\n",
    "    print(\"Standard deviation in cross-validation scores on testing set:\", np.std(cv_scores_linear_test[num_splits]))\n",
    "    print()"
   ]
  },
  {
   "cell_type": "code",
   "execution_count": 7,
   "id": "72873c16",
   "metadata": {
    "scrolled": false
   },
   "outputs": [
    {
     "data": {
      "image/png": "[encoded data removed]",
      "text/plain": [
       "<Figure size 640x480 with 1 Axes>"
      ]
     },
     "metadata": {},
     "output_type": "display_data"
    }
   ],
   "source": [
    "# Plot the predictions against the actual values for Linear Regression\n",
    "plt.scatter(y_test, y_pred_linear)\n",
    "plt.plot(y_test, y_test, color='red', linestyle='--')  # Plot the perfect fit line\n",
    "plt.xlabel('Actual values')\n",
    "plt.ylabel('Predicted values')\n",
    "plt.title('Predictions vs Actual Values (Linear Regression)')\n",
    "plt.show()"
   ]
  },
  {
   "cell_type": "code",
   "execution_count": 8,
   "id": "8a3824e2",
   "metadata": {},
   "outputs": [
    {
     "name": "stdout",
     "output_type": "stream",
     "text": [
      "Lasso Regression:\n",
      "R-squared (R2) on Testing Set: 0.5175572065102543\n",
      "Mean Squared Error (MSE) on Testing Set: 107.9273559834335\n",
      "Mean Absolute Error (MAE) on Testing Set: 6.698308226307317\n"
     ]
    }
   ],
   "source": [
    "# Define the Lasso model\n",
    "lasso_model = Lasso(alpha=0.1)  # You can adjust the alpha parameter as needed\n",
    "\n",
    "# Fit the Lasso model to the training data\n",
    "lasso_model.fit(X_train_transformed, y_train)\n",
    "\n",
    "# Predict using the Lasso model\n",
    "y_pred_lasso = lasso_model.predict(X_test_transformed)\n",
    "\n",
    "# Evaluate the Lasso model\n",
    "lasso_r2 = r2_score(y_test, y_pred_lasso)\n",
    "lasso_mse = mean_squared_error(y_test, y_pred_lasso)\n",
    "lasso_mae = mean_absolute_error(y_test, y_pred_lasso)\n",
    "\n",
    "print(\"Lasso Regression:\")\n",
    "print(\"R-squared (R2) on Testing Set:\", lasso_r2)\n",
    "print(\"Mean Squared Error (MSE) on Testing Set:\", lasso_mse)\n",
    "print(\"Mean Absolute Error (MAE) on Testing Set:\", lasso_mae)"
   ]
  },
  {
   "cell_type": "code",
   "execution_count": 9,
   "id": "d40f192b",
   "metadata": {},
   "outputs": [
    {
     "name": "stdout",
     "output_type": "stream",
     "text": [
      "Ridge Regression:\n",
      "R-squared (R2) on Testing Set: 0.5138312523060014\n",
      "Mean Squared Error (MSE) on Testing Set: 108.76088980590299\n",
      "Mean Absolute Error (MAE) on Testing Set: 6.7364501204980325\n"
     ]
    }
   ],
   "source": [
    "# Define the Ridge model\n",
    "ridge_model = Ridge(alpha=0.1)  # You can adjust the alpha parameter as needed\n",
    "\n",
    "# Fit the Ridge model to the training data\n",
    "ridge_model.fit(X_train_transformed, y_train)\n",
    "\n",
    "# Predict using the Ridge model\n",
    "y_pred_ridge = ridge_model.predict(X_test_transformed)\n",
    "\n",
    "# Evaluate the Ridge model\n",
    "ridge_r2 = r2_score(y_test, y_pred_ridge)\n",
    "ridge_mse = mean_squared_error(y_test, y_pred_ridge)\n",
    "ridge_mae = mean_absolute_error(y_test, y_pred_ridge)\n",
    "\n",
    "print(\"Ridge Regression:\")\n",
    "print(\"R-squared (R2) on Testing Set:\", ridge_r2)\n",
    "print(\"Mean Squared Error (MSE) on Testing Set:\", ridge_mse)\n",
    "print(\"Mean Absolute Error (MAE) on Testing Set:\", ridge_mae)"
   ]
  },
  {
   "cell_type": "markdown",
   "id": "fa1cd8bc",
   "metadata": {},
   "source": [
    "#### 3b. Making a Random Forest Regression Methods: second model"
   ]
  },
  {
   "cell_type": "code",
   "execution_count": 10,
   "id": "f835618a",
   "metadata": {},
   "outputs": [
    {
     "name": "stdout",
     "output_type": "stream",
     "text": [
      "Random Forest Regression:\n",
      "R-squared (R2) on Testing Set: 0.9220536538565067\n",
      "Mean Squared Error (MSE) on Testing Set: 17.43738980322345\n",
      "Mean Absolute Error (MAE) on Testing Set: 2.9275524505265964\n"
     ]
    }
   ],
   "source": [
    "# Define the Random Forest Regression model\n",
    "rf_model = RandomForestRegressor()\n",
    "\n",
    "# Fit the model to the training data\n",
    "rf_model.fit(X_train_transformed, y_train)\n",
    "\n",
    "# Predict using the model\n",
    "y_pred_rf = rf_model.predict(X_test_transformed)\n",
    "\n",
    "# Evaluate the model\n",
    "r2_rf = r2_score(y_test, y_pred_rf)\n",
    "mse_score_rf = mean_squared_error(y_test, y_pred_rf)\n",
    "mae_rf = mean_absolute_error(y_test, y_pred_rf)\n",
    "\n",
    "print(\"Random Forest Regression:\")\n",
    "print(\"R-squared (R2) on Testing Set:\", r2_rf)\n",
    "print(\"Mean Squared Error (MSE) on Testing Set:\", mse_score_rf)\n",
    "print(\"Mean Absolute Error (MAE) on Testing Set:\", mae_rf)\n"
   ]
  },
  {
   "cell_type": "code",
   "execution_count": 11,
   "id": "06485a24",
   "metadata": {
    "scrolled": false
   },
   "outputs": [
    {
     "name": "stdout",
     "output_type": "stream",
     "text": [
      "3-fold Cross-Validation Best Estimator:\n",
      "RandomForestRegressor(max_depth=10, max_features='sqrt', n_estimators=300)\n",
      "3-fold Cross-Validation Best Score:\n",
      "0.8852710289858737\n",
      "5-fold Cross-Validation Best Estimator:\n",
      "RandomForestRegressor(max_depth=20, max_features='log2', n_estimators=200)\n",
      "5-fold Cross-Validation Best Score:\n",
      "0.9061916565388446\n",
      "7-fold Cross-Validation Best Estimator:\n",
      "RandomForestRegressor(max_features='sqrt', n_estimators=200)\n",
      "7-fold Cross-Validation Best Score:\n",
      "0.9255411761060266\n",
      "10-fold Cross-Validation Best Estimator:\n",
      "RandomForestRegressor(max_features='sqrt', n_estimators=200)\n",
      "10-fold Cross-Validation Best Score:\n",
      "0.9228228592564756\n",
      "3-fold Cross-Validation Scores:\n",
      "Mean cross-validation score on training set: 0.8823374859035473\n",
      "Mean cross-validation score on testing set: 0.7823255412544073\n",
      "Standard deviation in cross-validation scores on testing set: 0.08059995927656316\n",
      "5-fold Cross-Validation Scores:\n",
      "Mean cross-validation score on training set: 0.8997005719151682\n",
      "Mean cross-validation score on testing set: 0.8070305284006576\n",
      "Standard deviation in cross-validation scores on testing set: 0.10600463943687699\n",
      "7-fold Cross-Validation Scores:\n",
      "Mean cross-validation score on training set: 0.9205320469558947\n",
      "Mean cross-validation score on testing set: 0.8092611504035244\n",
      "Standard deviation in cross-validation scores on testing set: 0.10850413523340631\n",
      "10-fold Cross-Validation Scores:\n",
      "Mean cross-validation score on training set: 0.9159611286059814\n",
      "Mean cross-validation score on testing set: 0.7978718843759134\n",
      "Standard deviation in cross-validation scores on testing set: 0.09304504760071323\n"
     ]
    }
   ],
   "source": [
    "# Define the range of number of splits\n",
    "num_splits_range = [3, 5, 7, 10]\n",
    "\n",
    "# Dictionary to store cross-validation scores for each number of splits\n",
    "cv_scores_rf_test = {}\n",
    "cv_scores_rf_train = {}\n",
    "\n",
    "for num_splits in num_splits_range:\n",
    "    # Define cross-validation strategy with current number of splits\n",
    "    kf = KFold(n_splits=num_splits, shuffle=True, random_state=42)\n",
    "    \n",
    "    # Define the Random Forest Regression model\n",
    "    rf_model = RandomForestRegressor()\n",
    "    \n",
    "    # Perform hyperparameter tuning with GridSearchCV\n",
    "    param_grid = {\n",
    "        'n_estimators': [100, 200, 300],\n",
    "        'max_depth': [None, 10, 20],\n",
    "        'min_samples_split': [2, 5, 10],\n",
    "        'min_samples_leaf': [1, 2, 4],\n",
    "        'max_features': ['sqrt', 'log2']\n",
    "    }\n",
    "    grid_search = GridSearchCV(estimator=rf_model, param_grid=param_grid, cv=kf, scoring='r2', n_jobs=-1)\n",
    "    grid_search.fit(X_train_transformed, y_train)\n",
    "    \n",
    "    # Print best estimator and best score\n",
    "    print(f\"{num_splits}-fold Cross-Validation Best Estimator:\")\n",
    "    print(grid_search.best_estimator_)\n",
    "    print(f\"{num_splits}-fold Cross-Validation Best Score:\")\n",
    "    print(grid_search.best_score_)\n",
    "    \n",
    "    # Get the best model\n",
    "    best_rf_model = grid_search.best_estimator_\n",
    "    \n",
    "    # Evaluate the best model using cross-validation on the training set\n",
    "    cv_scores_rf_train[num_splits] = cross_val_score(best_rf_model, X_train_transformed, y_train, cv=kf, scoring='r2')\n",
    "    \n",
    "    # Evaluate the best model using cross-validation on the testing set\n",
    "    cv_scores_rf_test[num_splits] = cross_val_score(best_rf_model, X_test_transformed, y_test, cv=kf, scoring='r2')\n",
    "\n",
    "# Print the cross-validation scores for each number of splits\n",
    "for num_splits in num_splits_range:\n",
    "    print(f\"{num_splits}-fold Cross-Validation Scores:\")\n",
    "    print(\"Mean cross-validation score on training set:\", np.mean(cv_scores_rf_train[num_splits]))\n",
    "    print(\"Mean cross-validation score on testing set:\", np.mean(cv_scores_rf_test[num_splits]))\n",
    "    print(\"Standard deviation in cross-validation scores on testing set:\", np.std(cv_scores_rf_test[num_splits]))"
   ]
  },
  {
   "cell_type": "code",
   "execution_count": 12,
   "id": "e2860e3d",
   "metadata": {},
   "outputs": [
    {
     "data": {
      "image/png": "[encoded data removed]",
      "text/plain": [
       "<Figure size 640x480 with 1 Axes>"
      ]
     },
     "metadata": {},
     "output_type": "display_data"
    }
   ],
   "source": [
    "# Plot the predictions against the actual values for Random Forest Regression\n",
    "plt.scatter(y_test, y_pred_rf)\n",
    "plt.plot(y_test, y_test, color='red', linestyle='--')\n",
    "plt.xlabel('Actual values')\n",
    "plt.ylabel('Predicted values')\n",
    "plt.title('Predictions vs Actual Values (Random Forest Regression)')\n",
    "plt.show()"
   ]
  },
  {
   "cell_type": "markdown",
   "id": "2fa7f259",
   "metadata": {},
   "source": [
    "#### 3d. Making a XGBoost Regression Model: third model"
   ]
  },
  {
   "cell_type": "code",
   "execution_count": 13,
   "id": "fb514c22",
   "metadata": {},
   "outputs": [
    {
     "name": "stdout",
     "output_type": "stream",
     "text": [
      "XGBoost Regression:\n",
      "R-squared (R2) on Testing Set: 0.9539300448804663\n",
      "Mean Squared Error (MSE) on Testing Set: 10.306317170498685\n",
      "Mean Absolute Error (MAE) on Testing Set: 2.173733985548038\n"
     ]
    }
   ],
   "source": [
    "# Define the XGBoost Regression model\n",
    "xgb_model = xgb.XGBRegressor()\n",
    "\n",
    "# Fit the model to the training data\n",
    "xgb_model.fit(X_train_transformed, y_train)\n",
    "\n",
    "# Predict using the model\n",
    "y_pred_xgb = xgb_model.predict(X_test_transformed)\n",
    "\n",
    "# Evaluate the model\n",
    "r2_xgb = r2_score(y_test, y_pred_xgb)\n",
    "mse_score_xgb = mean_squared_error(y_test, y_pred_xgb)\n",
    "mae_xgb = mean_absolute_error(y_test, y_pred_xgb)\n",
    "\n",
    "print(\"XGBoost Regression:\")\n",
    "print(\"R-squared (R2) on Testing Set:\", r2_xgb)\n",
    "print(\"Mean Squared Error (MSE) on Testing Set:\", mse_score_xgb)\n",
    "print(\"Mean Absolute Error (MAE) on Testing Set:\", mae_xgb)"
   ]
  },
  {
   "cell_type": "code",
   "execution_count": null,
   "id": "cb519be4",
   "metadata": {},
   "outputs": [
    {
     "name": "stdout",
     "output_type": "stream",
     "text": [
      "3-fold Cross-Validation Best Estimator:\n",
      "XGBRegressor(base_score=None, booster=None, callbacks=None,\n",
      "             colsample_bylevel=None, colsample_bynode=None,\n",
      "             colsample_bytree=0.9, device=None, early_stopping_rounds=None,\n",
      "             enable_categorical=False, eval_metric=None, feature_types=None,\n",
      "             gamma=None, grow_policy=None, importance_type=None,\n",
      "             interaction_constraints=None, learning_rate=0.15, max_bin=None,\n",
      "             max_cat_threshold=None, max_cat_to_onehot=None,\n",
      "             max_delta_step=None, max_depth=3, max_leaves=None,\n",
      "             min_child_weight=1, missing=nan, monotone_constraints=None,\n",
      "             multi_strategy=None, n_estimators=300, n_jobs=None,\n",
      "             num_parallel_tree=None, random_state=None, ...)\n",
      "3-fold Cross-Validation Best Score:\n",
      "0.9623901398112519\n",
      "5-fold Cross-Validation Best Estimator:\n",
      "XGBRegressor(base_score=None, booster=None, callbacks=None,\n",
      "             colsample_bylevel=None, colsample_bynode=None,\n",
      "             colsample_bytree=0.8, device=None, early_stopping_rounds=None,\n",
      "             enable_categorical=False, eval_metric=None, feature_types=None,\n",
      "             gamma=None, grow_policy=None, importance_type=None,\n",
      "             interaction_constraints=None, learning_rate=0.1, max_bin=None,\n",
      "             max_cat_threshold=None, max_cat_to_onehot=None,\n",
      "             max_delta_step=None, max_depth=3, max_leaves=None,\n",
      "             min_child_weight=3, missing=nan, monotone_constraints=None,\n",
      "             multi_strategy=None, n_estimators=300, n_jobs=None,\n",
      "             num_parallel_tree=None, random_state=None, ...)\n",
      "5-fold Cross-Validation Best Score:\n",
      "0.9684411940567014\n"
     ]
    }
   ],
   "source": [
    "# Dictionary to store cross-validation scores for each number of splits\n",
    "cv_scores_xgb_test = {}\n",
    "cv_scores_xgb_train = {}\n",
    "\n",
    "# Define the XGBoost Regression model\n",
    "xgb_model = xgb.XGBRegressor()\n",
    "\n",
    "for num_splits in num_splits_range:\n",
    "    # Define cross-validation strategy with current number of splits\n",
    "    kf = KFold(n_splits=num_splits, shuffle=True, random_state=42)\n",
    "    \n",
    "    # Perform hyperparameter tuning with GridSearchCV\n",
    "    param_grid = {\n",
    "        'n_estimators': [100, 200, 300],\n",
    "        'max_depth': [3, 5, 7],\n",
    "        'learning_rate': [0.05, 0.1, 0.15],\n",
    "        'min_child_weight': [1, 2, 3],\n",
    "        'subsample': [0.7, 0.8, 0.9],\n",
    "        'colsample_bytree': [0.7, 0.8, 0.9]\n",
    "    }\n",
    "    grid_search = GridSearchCV(estimator=xgb_model, param_grid=param_grid, cv=kf, scoring='r2')\n",
    "    grid_search.fit(X_train_transformed, y_train)\n",
    "    \n",
    "    # Print best estimator and best score\n",
    "    print(f\"{num_splits}-fold Cross-Validation Best Estimator:\")\n",
    "    print(grid_search.best_estimator_)\n",
    "    print(f\"{num_splits}-fold Cross-Validation Best Score:\")\n",
    "    print(grid_search.best_score_)\n",
    "    \n",
    "    # Get the best model\n",
    "    best_xgb_model = grid_search.best_estimator_\n",
    "    \n",
    "    # Evaluate the best model using cross-validation on the training set\n",
    "    cv_scores_xgb_train[num_splits] = cross_val_score(best_xgb_model, X_train_transformed, y_train, cv=kf, scoring='r2', n_jobs=-1)\n",
    "    \n",
    "    # Evaluate the best model using cross-validation on the testing set\n",
    "    cv_scores_xgb_test[num_splits] = cross_val_score(best_xgb_model, X_test_transformed, y_test, cv=kf, scoring='r2')\n",
    "\n",
    "# Print the cross-validation scores for each number of splits\n",
    "for num_splits in num_splits_range:\n",
    "    print(f\"{num_splits}-fold Cross-Validation Scores:\")\n",
    "    print(\"Mean cross-validation score on training set:\", np.mean(cv_scores_xgb_train[num_splits]))\n",
    "    print(\"Mean cross-validation score on testing set:\", np.mean(cv_scores_xgb_test[num_splits]))\n",
    "    print(\"Standard deviation in cross-validation scores on testing set:\", np.std(cv_scores_xgb_test[num_splits]))"
   ]
  },
  {
   "cell_type": "code",
   "execution_count": null,
   "id": "04e4d8b0",
   "metadata": {},
   "outputs": [],
   "source": [
    "# Plot the predictions against the actual values\n",
    "plt.scatter(y_test, y_pred_xgb, color='blue', label='Predictions')\n",
    "plt.plot(y_test, y_test, color='red', linestyle='--', label='Perfect Fit')\n",
    "plt.xlabel('Actual values')\n",
    "plt.ylabel('Predicted values')\n",
    "plt.title('Predictions vs Actual Values for XGBoost Regression')\n",
    "plt.legend()\n",
    "plt.show()"
   ]
  },
  {
   "cell_type": "markdown",
   "id": "41980523",
   "metadata": {},
   "source": [
    "### 4. Model Evaluation"
   ]
  },
  {
   "cell_type": "markdown",
   "id": "c65bb56c",
   "metadata": {},
   "source": [
    "### 5. Final Model"
   ]
  },
  {
   "cell_type": "code",
   "execution_count": null,
   "id": "7e0a3240",
   "metadata": {},
   "outputs": [],
   "source": []
  }
 ],
 "metadata": {
  "kernelspec": {
   "display_name": "Python 3 (ipykernel)",
   "language": "python",
   "name": "python3"
  },
  "language_info": {
   "codemirror_mode": {
    "name": "ipython",
    "version": 3
   },
   "file_extension": ".py",
   "mimetype": "text/x-python",
   "name": "python",
   "nbconvert_exporter": "python",
   "pygments_lexer": "ipython3",
   "version": "3.11.3"
  }
 },
 "nbformat": 4,
 "nbformat_minor": 5
}
